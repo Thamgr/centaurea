{
 "cells": [
  {
   "cell_type": "code",
   "execution_count": null,
   "metadata": {
    "colab": {
     "base_uri": "https://localhost:8080/"
    },
    "id": "t0CuxB_GuNVD",
    "outputId": "10152b6b-3aa2-44f0-c0a9-fbaeb1fe0c89"
   },
   "outputs": [
    {
     "name": "stdout",
     "output_type": "stream",
     "text": [
      "Looking in indexes: https://pypi.org/simple, https://us-python.pkg.dev/colab-wheels/public/simple/\n",
      "Requirement already satisfied: chess in /usr/local/lib/python3.7/dist-packages (1.9.2)\n"
     ]
    }
   ],
   "source": [
    "!pip install chess"
   ]
  },
  {
   "cell_type": "code",
   "execution_count": null,
   "metadata": {
    "id": "x5KghufCrh8K"
   },
   "outputs": [],
   "source": [
    "import torch\n",
    "import torch.nn as nn\n",
    "import torch.nn.functional as F\n",
    "import sklearn\n",
    "import sklearn.model_selection\n",
    "import matplotlib.pyplot as plt\n",
    "from IPython.display import clear_output\n",
    "from sklearn.utils import shuffle\n",
    "from google.colab import drive\n",
    "import numpy as np\n",
    "import pandas as pd\n",
    "from copy import deepcopy\n",
    "import os\n",
    "import random\n",
    "import chess\n",
    "import json\n",
    "import tqdm\n",
    "import math\n",
    "import time\n",
    "\n",
    "plt.rcParams[\"figure.figsize\"] = (12, 4)\n",
    "# device = torch.device(\"cuda:0\")\n",
    "# print(device)"
   ]
  },
  {
   "cell_type": "code",
   "execution_count": null,
   "metadata": {
    "id": "PcKKPhwUrh8Q"
   },
   "outputs": [],
   "source": [
    "fit = lambda x: min(1, max(x, -1))\n",
    "coef = 2000\n",
    "\n",
    "def get_material(fen):\n",
    "    \n",
    "    board = chess.Board(fen)\n",
    "    \n",
    "    w, b = chess.WHITE, chess.BLACK\n",
    "    \n",
    "    if board.turn == chess.BLACK:\n",
    "        w, b = b, w\n",
    "    \n",
    "    material = 0.0\n",
    "    material += len(board.pieces(chess.PAWN,   w)) * 1 *  1\n",
    "    material += len(board.pieces(chess.PAWN,   b)) * 1 * -1\n",
    "    material += len(board.pieces(chess.KNIGHT, w)) * 3 *  1\n",
    "    material += len(board.pieces(chess.KNIGHT, b)) * 3 * -1\n",
    "    material += len(board.pieces(chess.BISHOP, w)) * 3 *  1\n",
    "    material += len(board.pieces(chess.BISHOP, b)) * 3 * -1\n",
    "    material += len(board.pieces(chess.ROOK,   w)) * 5 *  1\n",
    "    material += len(board.pieces(chess.ROOK,   b)) * 5 * -1\n",
    "    material += len(board.pieces(chess.QUEEN,  w)) * 9 *  1\n",
    "    material += len(board.pieces(chess.QUEEN,  b)) * 9 * -1\n",
    "    \n",
    "    return material\n",
    "\n",
    "def get_scp(fen):\n",
    "    \n",
    "    board = chess.Board(fen)\n",
    "    \n",
    "    w, b = chess.WHITE, chess.BLACK\n",
    "    \n",
    "    if board.turn == chess.BLACK:\n",
    "        board = board.transform(chess.flip_vertical)\n",
    "        # board = board.transform(chess.flip_horizontal)\n",
    "        w, b = b, w\n",
    "\n",
    "    data = np.zeros((12, 8, 8))\n",
    "    \n",
    "    for i in board.pieces(chess.PAWN, w):\n",
    "        data[0, 7 - i // 8, i % 8] = 1\n",
    "    \n",
    "    for i in board.pieces(chess.PAWN, b):\n",
    "        data[1, 7 - i // 8, i % 8] = 1\n",
    "    \n",
    "    for i in board.pieces(chess.KNIGHT, w):\n",
    "        data[2, 7 - i // 8, i % 8] = 1\n",
    "    \n",
    "    for i in board.pieces(chess.KNIGHT, b):\n",
    "        data[3, 7 - i // 8, i % 8] = 1\n",
    "    \n",
    "    for i in board.pieces(chess.BISHOP, w):\n",
    "        data[4, 7 - i // 8, i % 8] = 1\n",
    "    \n",
    "    for i in board.pieces(chess.BISHOP, b):\n",
    "        data[5, 7 - i // 8, i % 8] = 1\n",
    "    \n",
    "    for i in board.pieces(chess.ROOK, w):\n",
    "        data[6, 7 - i // 8, i % 8] = 1\n",
    "    \n",
    "    for i in board.pieces(chess.ROOK, b):\n",
    "        data[7, 7 - i // 8, i % 8] = 1\n",
    "    \n",
    "    for i in board.pieces(chess.QUEEN, w):\n",
    "        data[8, 7 - i // 8, i % 8] = 1\n",
    "    \n",
    "    for i in board.pieces(chess.QUEEN, b):\n",
    "        data[9, 7 - i // 8, i % 8] = 1\n",
    "    \n",
    "    for i in board.pieces(chess.KING, w):\n",
    "        data[10, 7 - i // 8, i % 8] = 1\n",
    "    \n",
    "    for i in board.pieces(chess.KING, b):\n",
    "        data[11, 7 - i // 8, i % 8] = 1\n",
    "    \n",
    "    return data\n",
    "\n",
    "def get_halfkp(fen):\n",
    "\n",
    "    board = chess.Board(fen)\n",
    "    \n",
    "    w, b = chess.WHITE, chess.BLACK\n",
    "    \n",
    "    if board.turn == chess.BLACK:\n",
    "        board = board.transform(chess.flip_vertical)\n",
    "        #board = board.transform(chess.flip_horizontal)\n",
    "        w, b = b, w\n",
    "        \n",
    "    data = []\n",
    "    \n",
    "    for clr in [w, b]:\n",
    "        for sq1 in range(64):\n",
    "            for piece in [chess.PAWN, chess.KNIGHT, chess.BISHOP, chess.ROOK, chess.QUEEN]:\n",
    "                for sq2 in range(64):\n",
    "                    if board.piece_at(sq1) and board.piece_at(sq2) and board.piece_type_at(sq1) is chess.KING and board.piece_type_at(sq2) is piece and board.color_at(sq1) is w and board.color_at(sq2) is clr:\n",
    "                        data.append(1)\n",
    "                    else:\n",
    "                        data.append(0)\n",
    "    w, b = b, w\n",
    "    for clr in [w, b]:\n",
    "        for sq1 in range(64):\n",
    "            for piece in [chess.PAWN, chess.KNIGHT, chess.BISHOP, chess.ROOK, chess.QUEEN]:\n",
    "                for sq2 in range(64):\n",
    "                    if board.piece_at(sq1) and board.piece_at(sq2) and board.piece_type_at(sq1) is chess.KING and board.piece_type_at(sq2) is piece and board.color_at(sq1) is w and board.color_at(sq2) is clr:\n",
    "                        data.append(1)\n",
    "                    else:\n",
    "                        data.append(0)\n",
    "    return data\n",
    "\n",
    "def create_batch(x_df, y_df):\n",
    "    x, y = [], []\n",
    "    sz = len(x_df)\n",
    "    for it in range(sz):\n",
    "        board = chess.Board(x_df[it])\n",
    "        z = board.turn * 2 - 1\n",
    "        x.append(get_scp(x_df[it]))\n",
    "        cp = 0\n",
    "        if \"#-\" in y_df[it]:\n",
    "            cp = -9000\n",
    "        elif \"#\" in y_df[it]:\n",
    "            cp = 9000\n",
    "        else:\n",
    "            try:\n",
    "                cp = int(y_df[it])\n",
    "            except:\n",
    "                cp = 0\n",
    "        y.append(0.5 + 0.5 * fit(z * cp / coef))\n",
    "    return torch.tensor(np.array(x)).float(), torch.tensor(np.array(y)).float()\n",
    "\n",
    "def update_l_r(l, r, sz, n):\n",
    "    l += sz\n",
    "    r += sz\n",
    "    if r >= n - 20000:\n",
    "        l = 0\n",
    "        r = sz\n",
    "    return l, r"
   ]
  },
  {
   "cell_type": "code",
   "execution_count": null,
   "metadata": {
    "id": "k9k1Tkklrh8R"
   },
   "outputs": [],
   "source": [
    "class Simple_Net(nn.Module):\n",
    "    def __init__(self):\n",
    "        super().__init__()\n",
    "        self.lin1 = nn.Linear(768, 2048)\n",
    "        self.lin2 = nn.Linear(2048, 2048)\n",
    "        self.lin3 = nn.Linear(2048, 2048)\n",
    "        self.lin4 = nn.Linear(2048, 1)\n",
    "\n",
    "    def forward(self, x):\n",
    "        x = torch.flatten(x, 1)\n",
    "        x = self.lin1(x)\n",
    "        x = torch.relu(x)\n",
    "        x = self.lin2(x)\n",
    "        x = torch.relu(x)\n",
    "        x = self.lin3(x)\n",
    "        x = torch.relu(x)\n",
    "        x = self.lin4(x)\n",
    "        x = torch.clamp(x, max = 1.0, min = 0.0)\n",
    "        return x\n",
    "\n",
    "net = Simple_Net()\n",
    "# net.to(device)\n",
    "# net = torch.load(\"/content/1655848175_1929.pt\", map_location=torch.device('cpu'))\n",
    "# net.eval()\n",
    "\n",
    "# net = torch.load(\"/content/1655415573_849.pt\")\n",
    "# net.eval()\n",
    "\n",
    "optimizer = torch.optim.Adam(net.parameters(), lr = 0.7 * 1e-3)\n",
    "scheduler = torch.optim.lr_scheduler.ExponentialLR(optimizer, gamma = 0.7)\n",
    "mse = nn.MSELoss()\n",
    "mae = nn.L1Loss()"
   ]
  },
  {
   "cell_type": "code",
   "execution_count": null,
   "metadata": {
    "colab": {
     "base_uri": "https://localhost:8080/"
    },
    "id": "WpvnuGnprh8S",
    "outputId": "fe031069-cc13-4b57-b905-c817f21d7af9"
   },
   "outputs": [
    {
     "name": "stdout",
     "output_type": "stream",
     "text": [
      "Drive already mounted at /content/drive; to attempt to forcibly remount, call drive.mount(\"/content/drive\", force_remount=True).\n",
      "1000273\n"
     ]
    }
   ],
   "source": [
    "drive.mount('/content/drive')\n",
    "\n",
    "# df = pd.read_csv(\"/content/drive/MyDrive/chessData.csv\")\n",
    "df = pd.read_csv(\"/content/drive/MyDrive/random_evals.csv\")\n",
    "# df3 = pd.read_csv(\"/content/drive/MyDrive/tactic_evals.csv\")\n",
    "# df = pd.read_csv(\"/content/drive/MyDrive/dataset.csv\")\n",
    "\n",
    "print(len(df))"
   ]
  },
  {
   "cell_type": "code",
   "execution_count": null,
   "metadata": {
    "id": "q3EuE6pomndZ"
   },
   "outputs": [],
   "source": [
    "# df = pd.concat([df1, df2], ignore_index=True, sort=False)\n",
    "df = shuffle(df, random_state = 42)\n",
    "df.reset_index(inplace=True, drop=True)\n",
    "# df = df[:1000000]"
   ]
  },
  {
   "cell_type": "code",
   "execution_count": null,
   "metadata": {
    "colab": {
     "base_uri": "https://localhost:8080/"
    },
    "id": "SIUd4iCprh8T",
    "outputId": "fa6e4960-43f5-44da-d7a2-e0f335267a7b"
   },
   "outputs": [
    {
     "name": "stdout",
     "output_type": "stream",
     "text": [
      "1000273\n"
     ]
    }
   ],
   "source": [
    "n = len(df)\n",
    "print(n)\n",
    "batch_size = 256\n",
    "iters = (n - 20000) // batch_size\n",
    "epoches = 100"
   ]
  },
  {
   "cell_type": "code",
   "execution_count": null,
   "metadata": {
    "id": "R-7lJ6SqYen6"
   },
   "outputs": [],
   "source": [
    "test, train = [], []\n",
    "best = 999\n",
    "last_time = time.time()\n",
    "\n",
    "l, r = 0, batch_size\n",
    "batch_x, batch_y = [], []\n",
    "\n",
    "test_x, test_y = create_batch(list(df['FEN'][-20000:]), list(df['Evaluation'][-20000:]))\n",
    "\n",
    "old_name = \"\""
   ]
  },
  {
   "cell_type": "code",
   "execution_count": null,
   "metadata": {
    "colab": {
     "base_uri": "https://localhost:8080/",
     "height": 659
    },
    "id": "Uq3r4k9Vrh8U",
    "outputId": "7f31be7e-f383-421a-a331-5d4ffdddaf49"
   },
   "outputs": [],
   "source": [
    "for epoch in range(epoches):      \n",
    "    for it in range(iters):\n",
    "        batch_x, batch_y = create_batch(list(df['FEN'][l:r]), list(df['Evaluation'][l:r]))\n",
    "        l, r = update_l_r(l, r, batch_size, n)\n",
    "        error = mse(net(batch_x).view(batch_y.shape), batch_y)\n",
    "        optimizer.zero_grad()\n",
    "        error.backward()\n",
    "        optimizer.step()\n",
    "        train.append(error.item())\n",
    "        \n",
    "        error = mae(net(test_x).view(test_y.shape), test_y)\n",
    "        test.append(coef * error.item() / 50)\n",
    "        \n",
    "        clear_output(wait = True)\n",
    "        plt.subplot(121)\n",
    "        plt.plot(list(range(len(train))), train, label=u\"training kurva\")\n",
    "        plt.xlabel(u\"iter\")\n",
    "        plt.ylabel(u\"loss\")\n",
    "        plt.legend()\n",
    "        plt.grid()\n",
    "        \n",
    "        plt.subplot(122)\n",
    "        plt.plot(list(range(len(test))), test, label=u\"testing kurva\")\n",
    "        plt.xlabel(u\"iter\")\n",
    "        plt.ylabel(u\"loss\")\n",
    "        plt.legend()\n",
    "        plt.grid()\n",
    "\n",
    "        plt.show()\n",
    "        print(\"epoch: {}\\t iter: {}\\t loss: {}\\t lr: {}\\t {}s\".format(epoch, it, round(test[-1], 6), round(optimizer.param_groups[0]['lr'], 6), round(time.time() - last_time, 3)))\n",
    "        last_time = time.time()\n",
    "        \n",
    "        if test[-1] < best:\n",
    "            if os.path.exists(old_name):\n",
    "                os.remove(old_name)\n",
    "            old_name = str(int(time.time())) + \"_\" + str(int(test[-1] * 1000)) + \".pt\"\n",
    "            torch.save(net, old_name)\n",
    "            if int(10 * test[-1]) - int(10 * best) > 1:\n",
    "                torch.save(net, \"/content/drive/MyDrive/\" + oldname)\n",
    "            best = test[-1]\n",
    "            \n",
    "    l = 0 \n",
    "    r = batch_size\n",
    "    scheduler.step()\n",
    "    "
   ]
  }
 ],
 "metadata": {
  "colab": {
   "provenance": []
  },
  "gpuClass": "standard",
  "kernelspec": {
   "display_name": "Python 3",
   "language": "python",
   "name": "python3"
  },
  "language_info": {
   "codemirror_mode": {
    "name": "ipython",
    "version": 3
   },
   "file_extension": ".py",
   "mimetype": "text/x-python",
   "name": "python",
   "nbconvert_exporter": "python",
   "pygments_lexer": "ipython3",
   "version": "3.8.2"
  }
 },
 "nbformat": 4,
 "nbformat_minor": 4
}
